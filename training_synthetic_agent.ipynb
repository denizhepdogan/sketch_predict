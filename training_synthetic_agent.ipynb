{
  "nbformat": 4,
  "nbformat_minor": 0,
  "metadata": {
    "colab": {
      "name": "training_synthetic_agent",
      "provenance": [],
      "collapsed_sections": []
    },
    "kernelspec": {
      "name": "python3",
      "display_name": "Python 3"
    },
    "language_info": {
      "name": "python"
    },
    "accelerator": "GPU"
  },
  "cells": [
    {
      "cell_type": "code",
      "source": [
        "!pip install lxml "
      ],
      "metadata": {
        "colab": {
          "base_uri": "https://localhost:8080/"
        },
        "id": "rOW_SncuSsdH",
        "outputId": "c68897c5-ea38-4ba4-a4b2-3ebb7fea41c9"
      },
      "execution_count": null,
      "outputs": [
        {
          "output_type": "stream",
          "name": "stdout",
          "text": [
            "Requirement already satisfied: lxml in /usr/local/lib/python3.7/dist-packages (4.2.6)\n"
          ]
        }
      ]
    },
    {
      "cell_type": "code",
      "source": [
        "!mkdir data"
      ],
      "metadata": {
        "id": "Iaej8K7CTxeo"
      },
      "execution_count": null,
      "outputs": []
    },
    {
      "cell_type": "code",
      "source": [
        "cd data "
      ],
      "metadata": {
        "colab": {
          "base_uri": "https://localhost:8080/"
        },
        "id": "2H6ajjeOT8rM",
        "outputId": "dd66a6bb-9667-40c7-c931-f8921cb89e99"
      },
      "execution_count": null,
      "outputs": [
        {
          "output_type": "stream",
          "name": "stdout",
          "text": [
            "/content/data\n"
          ]
        }
      ]
    },
    {
      "cell_type": "code",
      "source": [
        "!wget https://storage.googleapis.com/quickdraw_dataset/full/numpy_bitmap/face.npy\n",
        "!wget https://storage.googleapis.com/quickdraw_dataset/full/numpy_bitmap/hat.npy"
      ],
      "metadata": {
        "colab": {
          "base_uri": "https://localhost:8080/"
        },
        "id": "fZeVTxrRULyu",
        "outputId": "9a17cb53-d0f3-400a-ed3c-68abb5fc6d20"
      },
      "execution_count": null,
      "outputs": [
        {
          "output_type": "stream",
          "name": "stdout",
          "text": [
            "--2022-02-08 16:50:42--  https://storage.googleapis.com/quickdraw_dataset/full/numpy_bitmap/face.npy\n",
            "Resolving storage.googleapis.com (storage.googleapis.com)... 142.250.157.128, 142.251.8.128, 64.233.189.128, ...\n",
            "Connecting to storage.googleapis.com (storage.googleapis.com)|142.250.157.128|:443... connected.\n",
            "HTTP request sent, awaiting response... 200 OK\n",
            "Length: 126746224 (121M) [application/octet-stream]\n",
            "Saving to: ‘face.npy’\n",
            "\n",
            "face.npy            100%[===================>] 120.87M  27.5MB/s    in 4.4s    \n",
            "\n",
            "2022-02-08 16:50:47 (27.5 MB/s) - ‘face.npy’ saved [126746224/126746224]\n",
            "\n",
            "--2022-02-08 16:50:48--  https://storage.googleapis.com/quickdraw_dataset/full/numpy_bitmap/hat.npy\n",
            "Resolving storage.googleapis.com (storage.googleapis.com)... 74.125.203.128, 64.233.189.128, 108.177.97.128, ...\n",
            "Connecting to storage.googleapis.com (storage.googleapis.com)|74.125.203.128|:443... connected.\n",
            "HTTP request sent, awaiting response... 200 OK\n",
            "Length: 174526320 (166M) [application/octet-stream]\n",
            "Saving to: ‘hat.npy’\n",
            "\n",
            "hat.npy             100%[===================>] 166.44M  44.5MB/s    in 3.7s    \n",
            "\n",
            "2022-02-08 16:50:52 (44.5 MB/s) - ‘hat.npy’ saved [174526320/174526320]\n",
            "\n"
          ]
        }
      ]
    },
    {
      "cell_type": "code",
      "source": [
        "!ls "
      ],
      "metadata": {
        "colab": {
          "base_uri": "https://localhost:8080/"
        },
        "id": "WK4VYh99VLhd",
        "outputId": "52493a72-d2e4-4dc2-ca38-f482d76ff610"
      },
      "execution_count": null,
      "outputs": [
        {
          "output_type": "stream",
          "name": "stdout",
          "text": [
            "face.npy  hat.npy\n"
          ]
        }
      ]
    },
    {
      "cell_type": "code",
      "source": [
        "cd .."
      ],
      "metadata": {
        "colab": {
          "base_uri": "https://localhost:8080/"
        },
        "id": "iAnop6phVstt",
        "outputId": "1e8840ca-8a14-4a2b-c6a4-07c2402067c0"
      },
      "execution_count": null,
      "outputs": [
        {
          "output_type": "stream",
          "name": "stdout",
          "text": [
            "/content\n"
          ]
        }
      ]
    },
    {
      "cell_type": "code",
      "source": [
        "from sklearn.model_selection import train_test_split as tts\n",
        "from keras.models import Sequential\n",
        "from keras.layers import Dense, Dropout, Conv2D, MaxPooling2D, Flatten\n",
        "from keras.utils import np_utils\n",
        "from random import randint\n",
        "import numpy as np\n",
        "import os\n",
        "from PIL import Image"
      ],
      "metadata": {
        "id": "X4aaEfWDV4da"
      },
      "execution_count": null,
      "outputs": []
    },
    {
      "cell_type": "code",
      "source": [
        "# define some constants\n",
        "N_OBJE = 2\n",
        "OBJE = {0: \"Face\", 1: \"Hat\"}\n",
        "\n",
        "# number of samples to take in each class\n",
        "N = 5000\n",
        "\n",
        "# some other constants\n",
        "N_EPOCHS = 10\n",
        "\n",
        "\n",
        "files = [\"face.npy\", \"hat.npy\"] "
      ],
      "metadata": {
        "id": "WAqCZ2MoWDZi"
      },
      "execution_count": null,
      "outputs": []
    },
    {
      "cell_type": "code",
      "source": [
        "def load(dir, reshaped, files):\n",
        "    \"Load .npy or .npz files from disk and return them as numpy arrays. \\\n",
        "    Takes in a list of filenames and returns a list of numpy arrays.\"\n",
        "\n",
        "    data = []\n",
        "    for file in files:\n",
        "        f = np.load(dir + file)\n",
        "        if reshaped:\n",
        "            new_f = []\n",
        "            for i in range(len(f)):\n",
        "                x = np.reshape(f[i], (28, 28))\n",
        "                x = np.expand_dims(x, axis=0)\n",
        "                x = np.reshape(f[i], (28, 28, 1))\n",
        "                new_f.append(x)\n",
        "            f = new_f\n",
        "        data.append(f)\n",
        "    return data\n",
        "\n",
        "\n",
        "def normalize(data):\n",
        "    \"Takes a list or a list of lists and returns its normalized form\"\n",
        "\n",
        "    return np.interp(data, [0, 255], [-1, 1])\n",
        "\n",
        "\n",
        "def denormalize(data):\n",
        "    \"Takes a list or a list of lists and returns its denormalized form\"\n",
        "\n",
        "    return np.interp(data, [-1, 1], [0, 255])\n",
        "\n",
        "\n",
        "def visualize(array):\n",
        "    \"Visulaze a 2D array as an Image\"\n",
        "    array = np.reshape(array, (28,28))\n",
        "    img = Image.fromarray(array)\n",
        "    return img\n",
        "\n",
        "\n",
        "def set_limit(arrays, n):\n",
        "    \"Limit elements from each array up to n elements and return a single list\"\n",
        "    new = []\n",
        "    for array in arrays:\n",
        "        i = 0\n",
        "        for item in array:\n",
        "            if i == n:\n",
        "                break\n",
        "            new.append(item)\n",
        "            i += 1\n",
        "    return new\n",
        "\n",
        "\n",
        "def make_labels(N1, N2):\n",
        "    \"make labels from 0 to N1, each repeated N2 times\"\n",
        "    labels = []\n",
        "    for i in range(N1):\n",
        "        labels += [i] * N2\n",
        "    return labels"
      ],
      "metadata": {
        "id": "_SMuyM9bXJ7d"
      },
      "execution_count": null,
      "outputs": []
    },
    {
      "cell_type": "code",
      "source": [
        "#This line of code is for the trial purpose only. \n",
        "\n",
        "obje = load(\"data/\", False, ['face.npy'])  "
      ],
      "metadata": {
        "id": "yfohRoB8XQq0"
      },
      "execution_count": null,
      "outputs": []
    },
    {
      "cell_type": "code",
      "source": [
        "#This line of code is for the trial purpose only. \n",
        "\n",
        "visualize(obje[0][0])"
      ],
      "metadata": {
        "colab": {
          "base_uri": "https://localhost:8080/",
          "height": 45
        },
        "id": "J9LkKvhQX_tr",
        "outputId": "635f9b04-3fa7-4803-e90d-c6db3be3bdf7"
      },
      "execution_count": null,
      "outputs": [
        {
          "output_type": "execute_result",
          "data": {
            "image/png": "[encoded data removed]",
            "text/plain": [
              "<PIL.Image.Image image mode=L size=28x28 at 0x7FADD8DAD910>"
            ]
          },
          "metadata": {},
          "execution_count": 11
        }
      ]
    },
    {
      "cell_type": "code",
      "source": [
        "#second argument is True for reshaping the image to a 28x28 form. A conv net expects this format.\n",
        "obje = load(\"data/\", True, files)\n",
        " \n",
        "#second argument is False because we don't need to reshape the image. An MLP net expects this format.\n",
        "#obje = load(\"data/\", False, files)\n",
        "\n",
        "\n",
        "# limit no of samples in each class to N\n",
        "obje = set_limit(obje, N)\n",
        "\n",
        "# normalize the values\n",
        "obje = list(map(normalize, obje))\n",
        "\n",
        "# define the labels\n",
        "labels = make_labels(N_OBJE, N)\n",
        "\n",
        "# prepare the data\n",
        "x_train, x_test, y_train, y_test = tts(obje, labels, test_size=0.05)\n",
        "\n",
        "# one hot encoding\n",
        "Y_train = np_utils.to_categorical(y_train, N_OBJE)\n",
        "Y_test = np_utils.to_categorical(y_test, N_OBJE)"
      ],
      "metadata": {
        "id": "9TXq25VUY0Ep"
      },
      "execution_count": null,
      "outputs": []
    },
    {
      "cell_type": "code",
      "source": [
        "model = Sequential()\n",
        "model.add(Conv2D(32, kernel_size=(3, 3), activation='relu', input_shape=(28,28,1)))\n",
        "model.add(Conv2D(64, (3, 3), activation='relu'))\n",
        "model.add(MaxPooling2D(pool_size=(2, 2)))\n",
        "model.add(Dropout(0.25))\n",
        "model.add(Flatten())\n",
        "model.add(Dense(128, activation='relu'))\n",
        "model.add(Dropout(0.5))\n",
        "model.add(Dense(N_OBJE, activation='softmax'))"
      ],
      "metadata": {
        "id": "r-oSvAqFavGT"
      },
      "execution_count": null,
      "outputs": []
    },
    {
      "cell_type": "code",
      "source": [
        "model.compile(loss='categorical_crossentropy',\n",
        "              optimizer='adam',\n",
        "              metrics=['accuracy'])\n",
        "\n",
        "\n",
        "# train\n",
        "model.fit(np.array(x_train), np.array(Y_train), batch_size=32, epochs=N_EPOCHS)\n",
        "\n",
        "print (\"Training complete\")\n",
        "\n",
        "print (\"Evaluating model\")\n",
        "preds = model.predict(np.array(x_test))\n",
        "\n",
        "score = 0\n",
        "for i in range(len(preds)):\n",
        "    if np.argmax(preds[i]) == y_test[i]:\n",
        "        score += 1\n",
        "\n",
        "print ((\"Accuracy: \"), ((score + 0.0) / len(preds)) * 100)\n",
        "\n",
        "\n",
        "model.save(\"obje\"+ \".h5\")\n",
        "print (\"Model saved\")"
      ],
      "metadata": {
        "colab": {
          "base_uri": "https://localhost:8080/"
        },
        "id": "KIHgBr_ReJIv",
        "outputId": "8ff2a521-f024-4890-9751-6751ea0aef31"
      },
      "execution_count": null,
      "outputs": [
        {
          "output_type": "stream",
          "name": "stdout",
          "text": [
            "Epoch 1/10\n",
            "297/297 [==============================] - 13s 9ms/step - loss: 0.1279 - accuracy: 0.9521\n",
            "Epoch 2/10\n",
            "297/297 [==============================] - 3s 9ms/step - loss: 0.0689 - accuracy: 0.9757\n",
            "Epoch 3/10\n",
            "297/297 [==============================] - 2s 8ms/step - loss: 0.0550 - accuracy: 0.9816\n",
            "Epoch 4/10\n",
            "297/297 [==============================] - 2s 8ms/step - loss: 0.0432 - accuracy: 0.9847\n",
            "Epoch 5/10\n",
            "297/297 [==============================] - 2s 8ms/step - loss: 0.0325 - accuracy: 0.9891\n",
            "Epoch 6/10\n",
            "297/297 [==============================] - 2s 8ms/step - loss: 0.0248 - accuracy: 0.9916\n",
            "Epoch 7/10\n",
            "297/297 [==============================] - 2s 8ms/step - loss: 0.0177 - accuracy: 0.9939\n",
            "Epoch 8/10\n",
            "297/297 [==============================] - 2s 8ms/step - loss: 0.0185 - accuracy: 0.9931\n",
            "Epoch 9/10\n",
            "297/297 [==============================] - 3s 8ms/step - loss: 0.0146 - accuracy: 0.9951\n",
            "Epoch 10/10\n",
            "297/297 [==============================] - 2s 8ms/step - loss: 0.0129 - accuracy: 0.9959\n",
            "Training complete\n",
            "Evaluating model\n",
            "Accuracy:  97.39999999999999\n",
            "Model saved\n"
          ]
        }
      ]
    },
    {
      "cell_type": "code",
      "source": [
        "!pip install tensorflowjs "
      ],
      "metadata": {
        "colab": {
          "base_uri": "https://localhost:8080/"
        },
        "id": "RaEyWh-NKzYz",
        "outputId": "05bed4a2-fbd9-4358-ca5c-a2d80307162b"
      },
      "execution_count": null,
      "outputs": [
        {
          "output_type": "stream",
          "name": "stdout",
          "text": [
            "Collecting tensorflowjs\n",
            "  Downloading tensorflowjs-3.13.0-py3-none-any.whl (77 kB)\n",
            "\u001b[?25l\r\u001b[K     |████▎                           | 10 kB 23.5 MB/s eta 0:00:01\r\u001b[K     |████████▌                       | 20 kB 8.4 MB/s eta 0:00:01\r\u001b[K     |████████████▊                   | 30 kB 7.3 MB/s eta 0:00:01\r\u001b[K     |█████████████████               | 40 kB 6.8 MB/s eta 0:00:01\r\u001b[K     |█████████████████████▏          | 51 kB 4.0 MB/s eta 0:00:01\r\u001b[K     |█████████████████████████▍      | 61 kB 4.2 MB/s eta 0:00:01\r\u001b[K     |█████████████████████████████▊  | 71 kB 4.4 MB/s eta 0:00:01\r\u001b[K     |████████████████████████████████| 77 kB 2.9 MB/s \n",
            "\u001b[?25hRequirement already satisfied: six<2,>=1.12.0 in /usr/local/lib/python3.7/dist-packages (from tensorflowjs) (1.15.0)\n",
            "Requirement already satisfied: tensorflow-hub<0.13,>=0.7.0 in /usr/local/lib/python3.7/dist-packages (from tensorflowjs) (0.12.0)\n",
            "Requirement already satisfied: tensorflow<3,>=2.1.0 in /usr/local/lib/python3.7/dist-packages (from tensorflowjs) (2.7.0)\n",
            "Requirement already satisfied: keras-preprocessing>=1.1.1 in /usr/local/lib/python3.7/dist-packages (from tensorflow<3,>=2.1.0->tensorflowjs) (1.1.2)\n",
            "Requirement already satisfied: termcolor>=1.1.0 in /usr/local/lib/python3.7/dist-packages (from tensorflow<3,>=2.1.0->tensorflowjs) (1.1.0)\n",
            "Requirement already satisfied: opt-einsum>=2.3.2 in /usr/local/lib/python3.7/dist-packages (from tensorflow<3,>=2.1.0->tensorflowjs) (3.3.0)\n",
            "Requirement already satisfied: keras<2.8,>=2.7.0rc0 in /usr/local/lib/python3.7/dist-packages (from tensorflow<3,>=2.1.0->tensorflowjs) (2.7.0)\n",
            "Requirement already satisfied: numpy>=1.14.5 in /usr/local/lib/python3.7/dist-packages (from tensorflow<3,>=2.1.0->tensorflowjs) (1.19.5)\n",
            "Requirement already satisfied: tensorboard~=2.6 in /usr/local/lib/python3.7/dist-packages (from tensorflow<3,>=2.1.0->tensorflowjs) (2.7.0)\n",
            "Requirement already satisfied: absl-py>=0.4.0 in /usr/local/lib/python3.7/dist-packages (from tensorflow<3,>=2.1.0->tensorflowjs) (1.0.0)\n",
            "Requirement already satisfied: libclang>=9.0.1 in /usr/local/lib/python3.7/dist-packages (from tensorflow<3,>=2.1.0->tensorflowjs) (13.0.0)\n",
            "Requirement already satisfied: astunparse>=1.6.0 in /usr/local/lib/python3.7/dist-packages (from tensorflow<3,>=2.1.0->tensorflowjs) (1.6.3)\n",
            "Requirement already satisfied: protobuf>=3.9.2 in /usr/local/lib/python3.7/dist-packages (from tensorflow<3,>=2.1.0->tensorflowjs) (3.17.3)\n",
            "Requirement already satisfied: flatbuffers<3.0,>=1.12 in /usr/local/lib/python3.7/dist-packages (from tensorflow<3,>=2.1.0->tensorflowjs) (2.0)\n",
            "Requirement already satisfied: wheel<1.0,>=0.32.0 in /usr/local/lib/python3.7/dist-packages (from tensorflow<3,>=2.1.0->tensorflowjs) (0.37.1)\n",
            "Requirement already satisfied: gast<0.5.0,>=0.2.1 in /usr/local/lib/python3.7/dist-packages (from tensorflow<3,>=2.1.0->tensorflowjs) (0.4.0)\n",
            "Requirement already satisfied: typing-extensions>=3.6.6 in /usr/local/lib/python3.7/dist-packages (from tensorflow<3,>=2.1.0->tensorflowjs) (3.10.0.2)\n",
            "Requirement already satisfied: wrapt>=1.11.0 in /usr/local/lib/python3.7/dist-packages (from tensorflow<3,>=2.1.0->tensorflowjs) (1.13.3)\n",
            "Requirement already satisfied: tensorflow-io-gcs-filesystem>=0.21.0 in /usr/local/lib/python3.7/dist-packages (from tensorflow<3,>=2.1.0->tensorflowjs) (0.23.1)\n",
            "Requirement already satisfied: grpcio<2.0,>=1.24.3 in /usr/local/lib/python3.7/dist-packages (from tensorflow<3,>=2.1.0->tensorflowjs) (1.43.0)\n",
            "Requirement already satisfied: h5py>=2.9.0 in /usr/local/lib/python3.7/dist-packages (from tensorflow<3,>=2.1.0->tensorflowjs) (3.1.0)\n",
            "Requirement already satisfied: google-pasta>=0.1.1 in /usr/local/lib/python3.7/dist-packages (from tensorflow<3,>=2.1.0->tensorflowjs) (0.2.0)\n",
            "Requirement already satisfied: tensorflow-estimator<2.8,~=2.7.0rc0 in /usr/local/lib/python3.7/dist-packages (from tensorflow<3,>=2.1.0->tensorflowjs) (2.7.0)\n",
            "Requirement already satisfied: cached-property in /usr/local/lib/python3.7/dist-packages (from h5py>=2.9.0->tensorflow<3,>=2.1.0->tensorflowjs) (1.5.2)\n",
            "Requirement already satisfied: google-auth-oauthlib<0.5,>=0.4.1 in /usr/local/lib/python3.7/dist-packages (from tensorboard~=2.6->tensorflow<3,>=2.1.0->tensorflowjs) (0.4.6)\n",
            "Requirement already satisfied: google-auth<3,>=1.6.3 in /usr/local/lib/python3.7/dist-packages (from tensorboard~=2.6->tensorflow<3,>=2.1.0->tensorflowjs) (1.35.0)\n",
            "Requirement already satisfied: tensorboard-plugin-wit>=1.6.0 in /usr/local/lib/python3.7/dist-packages (from tensorboard~=2.6->tensorflow<3,>=2.1.0->tensorflowjs) (1.8.1)\n",
            "Requirement already satisfied: setuptools>=41.0.0 in /usr/local/lib/python3.7/dist-packages (from tensorboard~=2.6->tensorflow<3,>=2.1.0->tensorflowjs) (57.4.0)\n",
            "Requirement already satisfied: requests<3,>=2.21.0 in /usr/local/lib/python3.7/dist-packages (from tensorboard~=2.6->tensorflow<3,>=2.1.0->tensorflowjs) (2.23.0)\n",
            "Requirement already satisfied: markdown>=2.6.8 in /usr/local/lib/python3.7/dist-packages (from tensorboard~=2.6->tensorflow<3,>=2.1.0->tensorflowjs) (3.3.6)\n",
            "Requirement already satisfied: tensorboard-data-server<0.7.0,>=0.6.0 in /usr/local/lib/python3.7/dist-packages (from tensorboard~=2.6->tensorflow<3,>=2.1.0->tensorflowjs) (0.6.1)\n",
            "Requirement already satisfied: werkzeug>=0.11.15 in /usr/local/lib/python3.7/dist-packages (from tensorboard~=2.6->tensorflow<3,>=2.1.0->tensorflowjs) (1.0.1)\n",
            "Requirement already satisfied: pyasn1-modules>=0.2.1 in /usr/local/lib/python3.7/dist-packages (from google-auth<3,>=1.6.3->tensorboard~=2.6->tensorflow<3,>=2.1.0->tensorflowjs) (0.2.8)\n",
            "Requirement already satisfied: rsa<5,>=3.1.4 in /usr/local/lib/python3.7/dist-packages (from google-auth<3,>=1.6.3->tensorboard~=2.6->tensorflow<3,>=2.1.0->tensorflowjs) (4.8)\n",
            "Requirement already satisfied: cachetools<5.0,>=2.0.0 in /usr/local/lib/python3.7/dist-packages (from google-auth<3,>=1.6.3->tensorboard~=2.6->tensorflow<3,>=2.1.0->tensorflowjs) (4.2.4)\n",
            "Requirement already satisfied: requests-oauthlib>=0.7.0 in /usr/local/lib/python3.7/dist-packages (from google-auth-oauthlib<0.5,>=0.4.1->tensorboard~=2.6->tensorflow<3,>=2.1.0->tensorflowjs) (1.3.1)\n",
            "Requirement already satisfied: importlib-metadata>=4.4 in /usr/local/lib/python3.7/dist-packages (from markdown>=2.6.8->tensorboard~=2.6->tensorflow<3,>=2.1.0->tensorflowjs) (4.10.1)\n",
            "Requirement already satisfied: zipp>=0.5 in /usr/local/lib/python3.7/dist-packages (from importlib-metadata>=4.4->markdown>=2.6.8->tensorboard~=2.6->tensorflow<3,>=2.1.0->tensorflowjs) (3.7.0)\n",
            "Requirement already satisfied: pyasn1<0.5.0,>=0.4.6 in /usr/local/lib/python3.7/dist-packages (from pyasn1-modules>=0.2.1->google-auth<3,>=1.6.3->tensorboard~=2.6->tensorflow<3,>=2.1.0->tensorflowjs) (0.4.8)\n",
            "Requirement already satisfied: urllib3!=1.25.0,!=1.25.1,<1.26,>=1.21.1 in /usr/local/lib/python3.7/dist-packages (from requests<3,>=2.21.0->tensorboard~=2.6->tensorflow<3,>=2.1.0->tensorflowjs) (1.24.3)\n",
            "Requirement already satisfied: idna<3,>=2.5 in /usr/local/lib/python3.7/dist-packages (from requests<3,>=2.21.0->tensorboard~=2.6->tensorflow<3,>=2.1.0->tensorflowjs) (2.10)\n",
            "Requirement already satisfied: certifi>=2017.4.17 in /usr/local/lib/python3.7/dist-packages (from requests<3,>=2.21.0->tensorboard~=2.6->tensorflow<3,>=2.1.0->tensorflowjs) (2021.10.8)\n",
            "Requirement already satisfied: chardet<4,>=3.0.2 in /usr/local/lib/python3.7/dist-packages (from requests<3,>=2.21.0->tensorboard~=2.6->tensorflow<3,>=2.1.0->tensorflowjs) (3.0.4)\n",
            "Requirement already satisfied: oauthlib>=3.0.0 in /usr/local/lib/python3.7/dist-packages (from requests-oauthlib>=0.7.0->google-auth-oauthlib<0.5,>=0.4.1->tensorboard~=2.6->tensorflow<3,>=2.1.0->tensorflowjs) (3.2.0)\n",
            "Installing collected packages: tensorflowjs\n",
            "Successfully installed tensorflowjs-3.13.0\n"
          ]
        }
      ]
    },
    {
      "cell_type": "code",
      "source": [
        "!mkdir model\n",
        "!tensorflowjs_converter --input_format keras obje.h5 model/"
      ],
      "metadata": {
        "id": "73Aa8LGgLA7m"
      },
      "execution_count": null,
      "outputs": []
    },
    {
      "cell_type": "code",
      "source": [
        "!zip -r model.zip model "
      ],
      "metadata": {
        "colab": {
          "base_uri": "https://localhost:8080/"
        },
        "id": "WoKNbKZ-LdPG",
        "outputId": "8318a2bf-9c41-4d26-8f55-801c67f4eb86"
      },
      "execution_count": null,
      "outputs": [
        {
          "output_type": "stream",
          "name": "stdout",
          "text": [
            "  adding: model/ (stored 0%)\n",
            "  adding: model/model.json (deflated 78%)\n",
            "  adding: model/group1-shard2of2.bin (deflated 7%)\n",
            "  adding: model/group1-shard1of2.bin (deflated 7%)\n"
          ]
        }
      ]
    },
    {
      "cell_type": "code",
      "source": [
        "from google.colab import files\n",
        "files.download('model.zip')"
      ],
      "metadata": {
        "colab": {
          "base_uri": "https://localhost:8080/",
          "height": 34
        },
        "id": "mKM8AIViLgDO",
        "outputId": "4836a530-80ca-47d2-cd9a-3f484dedda05"
      },
      "execution_count": null,
      "outputs": [
        {
          "output_type": "display_data",
          "data": {
            "application/javascript": [
              "\n",
              "    async function download(id, filename, size) {\n",
              "      if (!google.colab.kernel.accessAllowed) {\n",
              "        return;\n",
              "      }\n",
              "      const div = document.createElement('div');\n",
              "      const label = document.createElement('label');\n",
              "      label.textContent = `Downloading \"${filename}\": `;\n",
              "      div.appendChild(label);\n",
              "      const progress = document.createElement('progress');\n",
              "      progress.max = size;\n",
              "      div.appendChild(progress);\n",
              "      document.body.appendChild(div);\n",
              "\n",
              "      const buffers = [];\n",
              "      let downloaded = 0;\n",
              "\n",
              "      const channel = await google.colab.kernel.comms.open(id);\n",
              "      // Send a message to notify the kernel that we're ready.\n",
              "      channel.send({})\n",
              "\n",
              "      for await (const message of channel.messages) {\n",
              "        // Send a message to notify the kernel that we're ready.\n",
              "        channel.send({})\n",
              "        if (message.buffers) {\n",
              "          for (const buffer of message.buffers) {\n",
              "            buffers.push(buffer);\n",
              "            downloaded += buffer.byteLength;\n",
              "            progress.value = downloaded;\n",
              "          }\n",
              "        }\n",
              "      }\n",
              "      const blob = new Blob(buffers, {type: 'application/binary'});\n",
              "      const a = document.createElement('a');\n",
              "      a.href = window.URL.createObjectURL(blob);\n",
              "      a.download = filename;\n",
              "      div.appendChild(a);\n",
              "      a.click();\n",
              "      div.remove();\n",
              "    }\n",
              "  "
            ],
            "text/plain": [
              "<IPython.core.display.Javascript object>"
            ]
          },
          "metadata": {}
        },
        {
          "output_type": "display_data",
          "data": {
            "application/javascript": [
              "download(\"download_3f4f20b5-c524-481f-b53a-2738230753bc\", \"model.zip\", 4457615)"
            ],
            "text/plain": [
              "<IPython.core.display.Javascript object>"
            ]
          },
          "metadata": {}
        }
      ]
    }
  ]
}